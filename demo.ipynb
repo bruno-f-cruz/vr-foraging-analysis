{
 "cells": [
  {
   "cell_type": "code",
   "execution_count": null,
   "id": "35c7ff26",
   "metadata": {},
   "outputs": [],
   "source": [
    "from src.models import DataLoadingSettings\n",
    "from src.dataset import find_session_info, make_session_dataset\n",
    "from src.visualization import (\n",
    "    plot_ethogram,\n",
    "    patch_index_colormap,\n",
    "    plot_aligned_to_grouped_by,\n",
    ")\n",
    "from contraqctor.contract.utils import print_data_stream_tree\n",
    "from itertools import groupby\n",
    "import logging\n",
    "\n",
    "\n",
    "logging.getLogger(\"src.visualization\").setLevel(logging.DEBUG)\n",
    "\n",
    "choice_linestyle = {True: \"-\", False: \"--\"}"
   ]
  },
  {
   "cell_type": "code",
   "execution_count": null,
   "id": "cc1ee91d",
   "metadata": {},
   "outputs": [],
   "source": [
    "settings = DataLoadingSettings()\n",
    "session_info = list(find_session_info(settings))\n",
    "\n",
    "groupby_subject = groupby(session_info, key=lambda x: x.subject)\n",
    "for subject, sessions in groupby_subject:\n",
    "    print(f\"Subject: {subject}\")\n",
    "    for session in sessions:\n",
    "        print(f\"  - {session.session_id} ({session.date.strftime('%Y-%m-%d')})\")\n",
    "\n",
    "session_datasets = [\n",
    "    make_session_dataset(info, processing_settings=settings.processing_settings)\n",
    "    for info in session_info\n",
    "]\n",
    "dataset = session_datasets[-1]"
   ]
  },
  {
   "cell_type": "code",
   "execution_count": null,
   "id": "c0e7d021",
   "metadata": {},
   "outputs": [],
   "source": [
    "print(print_data_stream_tree(dataset.dataset.at(\"Behavior\").at(\"SoftwareEvents\")))"
   ]
  },
  {
   "cell_type": "code",
   "execution_count": null,
   "id": "fd85af02",
   "metadata": {},
   "outputs": [],
   "source": [
    "ax_velocity, ax_events = plot_ethogram(\n",
    "    dataset,\n",
    "    t_start=dataset.trials[\"choice_time\"][10],\n",
    "    t_end=dataset.trials[\"choice_time\"][20],\n",
    "    figsize=(12, 3),\n",
    ")\n",
    "ax_velocity.figure.show()"
   ]
  },
  {
   "cell_type": "code",
   "execution_count": null,
   "id": "b436093e",
   "metadata": {},
   "outputs": [],
   "source": [
    "unique_patches = dataset.trials[\"patch_index\"].unique()\n",
    "\n",
    "pairwise_style = {\n",
    "    (patch_idx, is_choice): {\n",
    "        \"color\": patch_index_colormap[patch_idx],\n",
    "        \"linestyle\": choice_linestyle[is_choice],\n",
    "        \"alpha\": 0.05,\n",
    "    }\n",
    "    for patch_idx in unique_patches\n",
    "    for is_choice in [True, False]\n",
    "}\n",
    "\n",
    "ax, summary = plot_aligned_to_grouped_by(\n",
    "    timestamp_df=dataset.trials,\n",
    "    timeseries=dataset.processed_streams.position_velocity[\"velocity\"],\n",
    "    by=[\"patch_index\", \"is_choice\"],\n",
    "    timestamp_column=\"odor_onset_time\",\n",
    "    plot_kwargs=pairwise_style,\n",
    ")\n",
    "ax.set_ylabel(\"Velocity (cm/s)\")"
   ]
  },
  {
   "cell_type": "code",
   "execution_count": null,
   "id": "04e5e84f",
   "metadata": {},
   "outputs": [],
   "source": [
    "## Make session choice plot\n",
    "\n",
    "trials = dataset.trials\n",
    "trials"
   ]
  }
 ],
 "metadata": {
  "kernelspec": {
   "display_name": "vr-foraging-analysis (3.13.7)",
   "language": "python",
   "name": "python3"
  },
  "language_info": {
   "codemirror_mode": {
    "name": "ipython",
    "version": 3
   },
   "file_extension": ".py",
   "mimetype": "text/x-python",
   "name": "python",
   "nbconvert_exporter": "python",
   "pygments_lexer": "ipython3",
   "version": "3.13.7"
  }
 },
 "nbformat": 4,
 "nbformat_minor": 5
}
