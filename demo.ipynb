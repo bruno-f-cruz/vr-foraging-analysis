{
 "cells": [
  {
   "cell_type": "code",
   "execution_count": null,
   "id": "35c7ff26",
   "metadata": {},
   "outputs": [],
   "source": [
    "from src.models import DataLoadingSettings\n",
    "from src.dataset import find_session_info, make_session_dataset\n",
    "from src.visualization import plot_ethogram, plot_aligned_to, patch_index_colormap\n",
    "from contraqctor.contract.utils import print_data_stream_tree\n",
    "from itertools import groupby\n",
    "import logging\n",
    "\n",
    "from matplotlib import pyplot as plt\n",
    "import numpy as np\n",
    "import pandas as pd\n",
    "\n",
    "logging.getLogger(\"src.processing\").setLevel(logging.WARNING)\n",
    "logging.getLogger(\"src.visualization\").setLevel(logging.DEBUG)\n",
    "\n",
    "choice_linestyle = {True: \"-\", False: \"--\"}"
   ]
  },
  {
   "cell_type": "code",
   "execution_count": null,
   "id": "cc1ee91d",
   "metadata": {},
   "outputs": [],
   "source": [
    "settings = DataLoadingSettings()\n",
    "session_info = list(find_session_info(settings))\n",
    "\n",
    "groupby_subject = groupby(session_info, key=lambda x: x.subject)\n",
    "for subject, sessions in groupby_subject:\n",
    "    print(f\"Subject: {subject}\")\n",
    "    for session in sessions:\n",
    "        print(f\"  - {session.session_id} ({session.date.strftime('%Y-%m-%d')})\")\n",
    "\n",
    "session_datasets = [\n",
    "    make_session_dataset(info, processing_settings=settings.processing_settings)\n",
    "    for info in session_info\n",
    "]\n",
    "dataset = session_datasets[0]"
   ]
  },
  {
   "cell_type": "code",
   "execution_count": null,
   "id": "c0e7d021",
   "metadata": {},
   "outputs": [],
   "source": [
    "print(print_data_stream_tree(dataset.dataset.at(\"Behavior\").at(\"SoftwareEvents\")))"
   ]
  },
  {
   "cell_type": "code",
   "execution_count": null,
   "id": "fd85af02",
   "metadata": {},
   "outputs": [],
   "source": [
    "ax_velocity, ax_events = plot_ethogram(\n",
    "    dataset,\n",
    "    t_start=dataset.sites[\"t_start\"].iloc[0],\n",
    "    t_end=dataset.sites[\"t_start\"].iloc[20],\n",
    "    figsize=(12, 3),\n",
    ")\n",
    "ax_velocity.figure.show()"
   ]
  },
  {
   "cell_type": "code",
   "execution_count": null,
   "id": "66bbbb05",
   "metadata": {},
   "outputs": [],
   "source": [
    "EVENT_WINDOW = (-0.5, 1.5)  # seconds\n",
    "fig, ax = plt.subplots(figsize=(6, 4))\n",
    "for (patch_type, is_choice), df in dataset.trials.groupby([\"patch_index\", \"is_choice\"]):\n",
    "    color = patch_index_colormap[patch_type]\n",
    "    linestyle = choice_linestyle[is_choice]\n",
    "    timestamps = df[\"odor_onset_time\"].to_numpy()\n",
    "    ax, data = plot_aligned_to(\n",
    "        timestamps,\n",
    "        dataset.processed_streams.position_velocity[\"velocity\"],\n",
    "        event_window=EVENT_WINDOW,\n",
    "        plot_kwargs={\n",
    "            \"linestyle\": linestyle,\n",
    "            \"color\": color,\n",
    "            \"alpha\": 0.1,\n",
    "            \"linewidth\": 0.5,\n",
    "        },\n",
    "        ax=ax,\n",
    "    )\n",
    "    for d, onset in zip(data, timestamps):\n",
    "        d.index = d.index - onset\n",
    "    bin_width = 0.025\n",
    "    new_index = pd.Index(\n",
    "        np.arange(\n",
    "            min(s.index.min() for s in data),\n",
    "            max(s.index.max() for s in data),\n",
    "            bin_width,\n",
    "        ),\n",
    "        name=\"Time\",\n",
    "    )\n",
    "\n",
    "    binned_data = np.full((len(new_index), len(data)), np.nan)\n",
    "\n",
    "    for i, s in enumerate(data):\n",
    "        binned_data[:, i] = np.interp(new_index, s.index, s.values)\n",
    "\n",
    "    binned_mean = np.nanmean(binned_data, axis=1)\n",
    "    percentiles = np.nanpercentile(binned_data, [2.5, 97.5], axis=1)\n",
    "    ax.plot(\n",
    "        new_index,\n",
    "        binned_mean,\n",
    "        color=color,\n",
    "        linestyle=linestyle,\n",
    "        linewidth=2,\n",
    "        label=f\"Patch {patch_type} {'(Choice)' if is_choice else '(No Choice)'}\",\n",
    "    )\n",
    "    ax.fill_between(\n",
    "        new_index,\n",
    "        percentiles[0],\n",
    "        percentiles[1],\n",
    "        color=color,\n",
    "        alpha=0.1,\n",
    "        linewidth=0,\n",
    "    )\n",
    "\n",
    "ax.axvline(0, color=\"k\", linestyle=\"--\", linewidth=1)\n",
    "ax.set_xlabel(\"Time from patch entry (s)\")\n",
    "ax.set_ylabel(\"Velocity (cm/s)\")\n",
    "ax.set_xlim(EVENT_WINDOW)\n",
    "ax.legend(loc=\"best\")"
   ]
  },
  {
   "cell_type": "code",
   "execution_count": null,
   "id": "04e5e84f",
   "metadata": {},
   "outputs": [],
   "source": [
    "## Make session choice plot\n",
    "\n",
    "trials = dataset.trials\n",
    "trials"
   ]
  }
 ],
 "metadata": {
  "kernelspec": {
   "display_name": "vr-foraging-analysis",
   "language": "python",
   "name": "python3"
  },
  "language_info": {
   "codemirror_mode": {
    "name": "ipython",
    "version": 3
   },
   "file_extension": ".py",
   "mimetype": "text/x-python",
   "name": "python",
   "nbconvert_exporter": "python",
   "pygments_lexer": "ipython3",
   "version": "3.13.7"
  }
 },
 "nbformat": 4,
 "nbformat_minor": 5
}
