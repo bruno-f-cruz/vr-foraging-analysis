{
 "cells": [
  {
   "cell_type": "code",
   "execution_count": null,
   "id": "35c7ff26",
   "metadata": {},
   "outputs": [],
   "source": [
    "%load_ext autoreload\n",
    "%autoreload 2\n",
    "\n",
    "from src.models import DataLoadingSettings\n",
    "from src.dataset import find_session_info, make_session_dataset\n",
    "from src.processing import process_sites\n",
    "from src.visualization import plot_ethogram\n",
    "from aind_behavior_vr_foraging import task_logic as vrf_task\n",
    "\n",
    "from itertools import groupby\n",
    "import logging\n",
    "\n",
    "logger = logging.getLogger(__name__)"
   ]
  },
  {
   "cell_type": "code",
   "execution_count": null,
   "id": "cc1ee91d",
   "metadata": {},
   "outputs": [],
   "source": [
    "settings = DataLoadingSettings()\n",
    "session_info = list(find_session_info(settings))\n",
    "\n",
    "groupby_subject = groupby(session_info, key=lambda x: x.subject)\n",
    "for subject, sessions in groupby_subject:\n",
    "    print(f\"Subject: {subject}\")\n",
    "    for session in sessions:\n",
    "        print(f\"  - {session.session_id} ({session.date.strftime('%Y-%m-%d')})\")\n",
    "\n",
    "session_datasets = [\n",
    "    make_session_dataset(info, processing_settings=settings.processing_settings)\n",
    "    for info in session_info\n",
    "]\n",
    "dataset = session_datasets[0]"
   ]
  },
  {
   "cell_type": "code",
   "execution_count": null,
   "id": "ce9b0ff3",
   "metadata": {},
   "outputs": [],
   "source": [
    "_colormap = [\n",
    "    \"#1b9e77\",\n",
    "    \"#d95f02\",\n",
    "    \"#7570b3\",\n",
    "    \"#e7298a\",\n",
    "    \"#66a61e\",\n",
    "    \"#e6ab02\",\n",
    "    \"#a6761d\",\n",
    "]\n",
    "\n",
    "\n",
    "def get_color_from_site(site_label: str, patch_idx: int) -> str:\n",
    "    if site_label == vrf_task.VirtualSiteLabels.REWARDSITE:\n",
    "        base_color = _colormap[patch_idx % len(_colormap)]\n",
    "    elif site_label == vrf_task.VirtualSiteLabels.INTERPATCH:\n",
    "        base_color = \"#A9A9A9\"\n",
    "    elif site_label == vrf_task.VirtualSiteLabels.INTERSITE:\n",
    "        base_color = \"#4C4C4C\"\n",
    "    else:\n",
    "        raise ValueError(f\"Unknown site label: {site_label}\")\n",
    "    return base_color"
   ]
  },
  {
   "cell_type": "code",
   "execution_count": null,
   "id": "07451f0d",
   "metadata": {},
   "outputs": [],
   "source": [
    "sites = process_sites(dataset.dataset)"
   ]
  },
  {
   "cell_type": "code",
   "execution_count": null,
   "id": "fd85af02",
   "metadata": {},
   "outputs": [],
   "source": [
    "ax = plot_ethogram(\n",
    "    sites,\n",
    "    dataset,\n",
    "    t_start=sites[\"t_start\"].iloc[0],\n",
    "    t_end=sites[\"t_start\"].iloc[20],\n",
    "    figsize=(12, 3),\n",
    ")\n",
    "ax.figure.show()"
   ]
  },
  {
   "cell_type": "markdown",
   "id": "10be9be1",
   "metadata": {},
   "source": [
    "## Metrics to grab:\n",
    "* Total distance traveled\n",
    "* Number of sites\n",
    "* Number of rewards\n",
    "* P(Stop | Odor)\n",
    "\n",
    "## Plots\n",
    "* Histogram of inter-odor distances and time\n",
    "* Odor aligned velocity\n"
   ]
  }
 ],
 "metadata": {
  "kernelspec": {
   "display_name": "vr-foraging-analysis",
   "language": "python",
   "name": "python3"
  },
  "language_info": {
   "codemirror_mode": {
    "name": "ipython",
    "version": 3
   },
   "file_extension": ".py",
   "mimetype": "text/x-python",
   "name": "python",
   "nbconvert_exporter": "python",
   "pygments_lexer": "ipython3",
   "version": "3.13.7"
  }
 },
 "nbformat": 4,
 "nbformat_minor": 5
}
